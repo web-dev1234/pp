{
 "cells": [
  {
   "cell_type": "code",
   "execution_count": 1,
   "metadata": {},
   "outputs": [],
   "source": [
    "#Making a basic Bokeh line graph\n",
    "\n",
    "#importing Bokeh\n",
    "from bokeh.plotting import figure\n",
    "from bokeh.io import output_file,show\n",
    "\n",
    "#prepare some data\n",
    "x=[1,2,3,4,5]\n",
    "y=[6,7,8,9,10]\n",
    "\n",
    "#prepare the output file\n",
    "output_file(\"Line.html\")\n",
    "\n",
    "#create a figure object\n",
    "f=figure()\n",
    "\n",
    "#create Line plot\n",
    "f.line(x,y)\n",
    "\n",
    "#write the plot in the figure object\n",
    "show(f)"
   ]
  },
  {
   "cell_type": "code",
   "execution_count": 7,
   "metadata": {},
   "outputs": [],
   "source": [
    "#Making a basic Bokeh line graph\n",
    "\n",
    "#importing Bokeh and pandas\n",
    "from bokeh.plotting import figure\n",
    "from bokeh.io import output_file,show\n",
    "import pandas\n",
    "\n",
    "#prepare some data\n",
    "df=pandas.read_csv(\"data.csv\")\n",
    "x=df[\"x\"]\n",
    "y=df[\"y\"]\n",
    "\n",
    "#prepare the output file\n",
    "output_file(\"Line_from_csv.html\")\n",
    "\n",
    "#create a figure object\n",
    "f=figure()\n",
    "\n",
    "#create Line plot\n",
    "f.line(x,y)\n",
    "\n",
    "#write the plot in the figure object\n",
    "show(f)"
   ]
  },
  {
   "cell_type": "code",
   "execution_count": 6,
   "metadata": {},
   "outputs": [
    {
     "data": {
      "text/plain": [
       "pandas.core.series.Series"
      ]
     },
     "execution_count": 6,
     "metadata": {},
     "output_type": "execute_result"
    }
   ],
   "source": [
    "type(df[\"y\"])"
   ]
  },
  {
   "cell_type": "code",
   "execution_count": 8,
   "metadata": {},
   "outputs": [
    {
     "name": "stdout",
     "output_type": "stream",
     "text": [
      "Collecting xlrdNote: you may need to restart the kernel to use updated packages.\n",
      "  Downloading xlrd-2.0.1-py2.py3-none-any.whl (96 kB)\n",
      "Installing collected packages: xlrd\n",
      "Successfully installed xlrd-2.0.1\n",
      "\n"
     ]
    }
   ],
   "source": [
    "pip install xlrd"
   ]
  },
  {
   "cell_type": "code",
   "execution_count": null,
   "metadata": {},
   "outputs": [],
   "source": []
  }
 ],
 "metadata": {
  "kernelspec": {
   "display_name": "Python 3",
   "language": "python",
   "name": "python3"
  },
  "language_info": {
   "codemirror_mode": {
    "name": "ipython",
    "version": 3
   },
   "file_extension": ".py",
   "mimetype": "text/x-python",
   "name": "python",
   "nbconvert_exporter": "python",
   "pygments_lexer": "ipython3",
   "version": "3.8.1"
  }
 },
 "nbformat": 4,
 "nbformat_minor": 4
}
